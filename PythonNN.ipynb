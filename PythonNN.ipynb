{
 "cells": [
  {
   "cell_type": "markdown",
   "metadata": {},
   "source": [
    "# Python Neural Network Demonstration"
   ]
  },
  {
   "cell_type": "markdown",
   "metadata": {},
   "source": [
    "Энд MNIST датаг ангилж сурах систем бичив. Жирийн python, numpy ашиглаж бичсэн систем болон ньюроны талаарх бусад тэмдэглэлийг эх нийтлэлээс хараарай. \n",
    "\n",
    "Link: https://wp.me/p5EUYy-fq"
   ]
  },
  {
   "cell_type": "code",
   "execution_count": 2,
   "metadata": {},
   "outputs": [],
   "source": [
    "# MNIST Data\n",
    "# https://pjreddie.com/projects/mnist-in-csv/\n",
    "# Training set: 60,000 examples\n",
    "# Test set: 10,000 examples\n",
    "# label, 28x28 values (784)\n",
    "\n",
    "import numpy as np\n",
    "import matplotlib.pyplot as plt\n",
    "from neural_network import NeuralNetwork as NN"
   ]
  },
  {
   "cell_type": "code",
   "execution_count": 3,
   "metadata": {},
   "outputs": [],
   "source": [
    "# training data input\n",
    "train_src = open(\"./data/mnist_train.csv\", 'r')\n",
    "training_data = train_src.readlines()\n",
    "train_src.close()\n",
    "\n",
    "# test data input\n",
    "test_src = open(\"./data/mnist_test.csv\", 'r')\n",
    "test_data = test_src.readlines()\n",
    "test_src.close()"
   ]
  },
  {
   "cell_type": "code",
   "execution_count": 5,
   "metadata": {},
   "outputs": [
    {
     "name": "stdout",
     "output_type": "stream",
     "text": [
      "Performance =  0.9558\n"
     ]
    }
   ],
   "source": [
    "# Number of input, hidden, and output nodes\n",
    "input_nodes = 784\n",
    "hidden_nodes = 100\n",
    "output_nodes = 10\n",
    "\n",
    "# Learning rate\n",
    "learning_rate = 0.1\n",
    "\n",
    "# Initialise Neural network\n",
    "N = NN(input_nodes, hidden_nodes, output_nodes, learning_rate)\n",
    "\n",
    "# TRAINING\n",
    "epochs = 2\n",
    "\n",
    "for epoch in range(epochs):\n",
    "    for sample in training_data:\n",
    "        sample_values = sample.split(',')\n",
    "        # scale and shift input\n",
    "        inputs = (np.asfarray(sample_values[1:]) / 255.0 * 0.99) + 0.01\n",
    "        # create target values (0.01 -> 0.99)\n",
    "        targets = np.zeros(output_nodes) + 0.01\n",
    "        # assign desired target values\n",
    "        targets[int(sample_values[0])] = 0.99\n",
    "        N.train(inputs, targets)\n",
    "\n",
    "# TEST Neural network\n",
    "\n",
    "scores = []\n",
    "for sample in test_data:\n",
    "    sample_values = sample.split(',')\n",
    "    # Correct labes is first\n",
    "    correct_label = int(sample_values[0])\n",
    "    # scale and shift inputs\n",
    "    inputs = (np.asfarray(sample_values[1:]) / 255.0 * 0.99) + 0.01\n",
    "    # Query NN\n",
    "    outputs = N.query(inputs)\n",
    "    # index of highest output is our label\n",
    "    label = np.argmax(outputs)\n",
    "\n",
    "    # append label to scores\n",
    "    if label == correct_label:\n",
    "        # predicted label is correct\n",
    "        scores.append(1)\n",
    "    else:\n",
    "        scores.append(0)\n",
    "\n",
    "# Measure performance of NN\n",
    "performance = np.asarray(scores)\n",
    "print('Performance = ', performance.sum() / float(performance.size))"
   ]
  }
 ],
 "metadata": {
  "kernelspec": {
   "display_name": "Python 3",
   "language": "python",
   "name": "python3"
  },
  "language_info": {
   "codemirror_mode": {
    "name": "ipython",
    "version": 3
   },
   "file_extension": ".py",
   "mimetype": "text/x-python",
   "name": "python",
   "nbconvert_exporter": "python",
   "pygments_lexer": "ipython3",
   "version": "3.6.8"
  }
 },
 "nbformat": 4,
 "nbformat_minor": 2
}
