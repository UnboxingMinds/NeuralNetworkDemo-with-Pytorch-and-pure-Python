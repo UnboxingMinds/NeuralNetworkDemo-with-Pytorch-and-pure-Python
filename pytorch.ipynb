{
 "cells": [
  {
   "cell_type": "markdown",
   "metadata": {},
   "source": [
    "# Pytorch notes"
   ]
  },
  {
   "cell_type": "markdown",
   "metadata": {},
   "source": [
    "PyTorch тэмдэглэлүүд. Энд MNIST датаг ангилж сурах систем бичив. Жирийн python, numpy ашиглаж бичсэн систем болон ньюроны талаарх бусад тэмдэглэлийг эх нийтлэлээс хараарай. \n",
    "\n",
    "Link: https://wp.me/p5EUYy-fq"
   ]
  },
  {
   "cell_type": "code",
   "execution_count": 16,
   "metadata": {},
   "outputs": [],
   "source": [
    "%matplotlib inline\n",
    "%config InlineBackend.figure_format = 'retina'\n",
    "\n",
    "import matplotlib.pyplot as plt\n",
    "import numpy as np\n",
    "import torch\n",
    "import torchvision\n",
    "plt.style.use('seaborn-whitegrid')"
   ]
  },
  {
   "cell_type": "markdown",
   "metadata": {},
   "source": [
    "# Pytorch MNIST"
   ]
  },
  {
   "cell_type": "markdown",
   "metadata": {},
   "source": [
    "Here MNIST classifier is implemented with PyTorch."
   ]
  },
  {
   "cell_type": "markdown",
   "metadata": {},
   "source": [
    "### Helper functions"
   ]
  },
  {
   "cell_type": "code",
   "execution_count": 17,
   "metadata": {},
   "outputs": [],
   "source": [
    "def show_img(images, n):\n",
    "    '''\n",
    "    Argument:\n",
    "        images - loaded images\n",
    "        n - number of an image to see\n",
    "    -------------------------------------------------------    \n",
    "    '''\n",
    "    plt.imshow(images[n].numpy().squeeze(), cmap='Greys_r')\n",
    "    \n",
    "def show_batch(batch):\n",
    "    '''\n",
    "    Argument:\n",
    "        batch - torch batch\n",
    "    -------------------------------------------------------\n",
    "    Shows batch images\n",
    "    '''\n",
    "    img = torchvision.utils.make_grid(batch)\n",
    "    plt.imshow(np.transpose(img.numpy(), (1, 2, 0)));\n",
    "    \n",
    "def view_prediction(img, ps):\n",
    "    '''\n",
    "    Argument:\n",
    "        img - test image\n",
    "        ps - predicted softmax\n",
    "    --------------------------------------------------------    \n",
    "    Function for viewing an image and it's predicted classes.\n",
    "    '''\n",
    "    ps = ps.data.numpy().squeeze()\n",
    "\n",
    "    fig, (ax1, ax2) = plt.subplots(figsize=(6,9), ncols=2)\n",
    "    ax1.imshow(img.resize_(1, 28, 28).numpy().squeeze())\n",
    "    ax1.axis('off')\n",
    "    ax2.barh(np.arange(10), ps)\n",
    "    ax2.set_aspect(0.1)\n",
    "    ax2.set_yticks(np.arange(10))\n",
    "    ax2.set_title('Class Probability')\n",
    "    ax2.set_xlim(0, 1.1)\n",
    "\n",
    "    plt.tight_layout()\n",
    "\n",
    "def predict(model, images, img_to_predict):\n",
    "    '''\n",
    "    Argument:\n",
    "        model - neural model\n",
    "        images - test images\n",
    "        img_to_predict - number of image\n",
    "    --------------------------------------------------------\n",
    "    Predicts and shows a result\n",
    "    '''\n",
    "    img = images[img_to_predict].view(1, -1)\n",
    "    # quering the network\n",
    "    with torch.no_grad():\n",
    "        logits = model.forward(img)\n",
    "    # output of the network    \n",
    "    ps = F.softmax(logits, dim=1)\n",
    "\n",
    "    # seeing a predicted output\n",
    "    view_prediction(img, ps)    "
   ]
  },
  {
   "cell_type": "markdown",
   "metadata": {},
   "source": [
    "### Loading datasets"
   ]
  },
  {
   "cell_type": "code",
   "execution_count": 18,
   "metadata": {},
   "outputs": [],
   "source": [
    "# import dataset and feaure engineering\n",
    "from torchvision import datasets, transforms"
   ]
  },
  {
   "cell_type": "code",
   "execution_count": 19,
   "metadata": {},
   "outputs": [],
   "source": [
    "# Batch training - batch size\n",
    "batch = 64\n",
    "\n",
    "# Define a transform to normalize the data\n",
    "transform = transforms.Compose([transforms.ToTensor(),\n",
    "                              transforms.Normalize((0.5,), (0.5,)),\n",
    "                              ])\n",
    "\n",
    "# Download and load the training data\n",
    "train_set = datasets.MNIST('data', download=True, train=True, transform=transform)\n",
    "train_loader = torch.utils.data.DataLoader(train_set, batch_size=batch, shuffle=True)\n",
    "\n",
    "# Download and load the test data\n",
    "test_set = datasets.MNIST('data', download=True, train=False, transform=transform)\n",
    "test_loader = torch.utils.data.DataLoader(test_set, batch_size=batch, shuffle=True)"
   ]
  },
  {
   "cell_type": "markdown",
   "metadata": {},
   "source": [
    "## Build model"
   ]
  },
  {
   "cell_type": "code",
   "execution_count": 20,
   "metadata": {},
   "outputs": [],
   "source": [
    "from torch import nn, optim\n",
    "import torch.nn.functional as F"
   ]
  },
  {
   "cell_type": "code",
   "execution_count": 21,
   "metadata": {},
   "outputs": [],
   "source": [
    "n_input = 784\n",
    "n_hidden = 200\n",
    "n_output = 10"
   ]
  },
  {
   "cell_type": "markdown",
   "metadata": {},
   "source": [
    "### Network"
   ]
  },
  {
   "cell_type": "code",
   "execution_count": 22,
   "metadata": {},
   "outputs": [],
   "source": [
    "model = nn.Sequential(nn.Linear(n_input, 128),\n",
    "                     nn.ReLU(),\n",
    "                     nn.Linear(128, 64),\n",
    "                     nn.ReLU(),\n",
    "                     nn.Linear(64,10),\n",
    "                     nn.LogSoftmax(dim=1))"
   ]
  },
  {
   "cell_type": "code",
   "execution_count": 23,
   "metadata": {},
   "outputs": [],
   "source": [
    "# Defining gradient descent\n",
    "learning_rate = 0.01\n",
    "criterion = nn.NLLLoss()\n",
    "optimiser = optim.SGD(model.parameters(), lr=learning_rate)"
   ]
  },
  {
   "cell_type": "markdown",
   "metadata": {},
   "source": [
    "\n",
    "## Train and test model"
   ]
  },
  {
   "cell_type": "code",
   "execution_count": 24,
   "metadata": {},
   "outputs": [],
   "source": [
    "train_iter = iter(train_loader)\n",
    "images, labels = train_iter.next()\n",
    "\n",
    "# print('Labels: ', labels)\n",
    "# print('Batch shape: ', images.size())\n",
    "# show_batch(images)"
   ]
  },
  {
   "cell_type": "markdown",
   "metadata": {},
   "source": [
    "## Training"
   ]
  },
  {
   "cell_type": "code",
   "execution_count": 25,
   "metadata": {},
   "outputs": [
    {
     "name": "stdout",
     "output_type": "stream",
     "text": [
      "Training loss:1.0206883165882086\n",
      "Training loss:0.3855766306506164\n",
      "Training loss:0.324587278925915\n",
      "Training loss:0.2924183025511343\n",
      "Training loss:0.2676634893043717\n"
     ]
    }
   ],
   "source": [
    "# Training the network\n",
    "epochs = 5\n",
    "\n",
    "for e in range(epochs):\n",
    "    train_loss = 0\n",
    "    for images, labels in train_loader:\n",
    "        # Flattening an input image to vector\n",
    "        images = images.view(images.shape[0], -1)\n",
    "        # Initialising model parameters' gradient to zero\n",
    "        optimiser.zero_grad()\n",
    "        \n",
    "        # Propogating forward: input -> hidden -> output\n",
    "        output = model.forward(images)        \n",
    "        # Calculating error at output\n",
    "        loss = criterion(output, labels)\n",
    "        # Propogating an error backward: output -> hidden -> input\n",
    "        loss.backward()\n",
    "        # Updating weight\n",
    "        optimiser.step()\n",
    "        \n",
    "        # Recoring loss of error\n",
    "        train_loss += loss.item()\n",
    "        \n",
    "    print(f'Training loss:{train_loss/len(train_loader)}')"
   ]
  },
  {
   "cell_type": "markdown",
   "metadata": {},
   "source": [
    "### Testing"
   ]
  },
  {
   "cell_type": "code",
   "execution_count": 26,
   "metadata": {},
   "outputs": [
    {
     "data": {
      "image/png": "[encoded data removed]",
      "text/plain": [
       "<Figure size 432x648 with 2 Axes>"
      ]
     },
     "metadata": {
      "image/png": {
       "height": 228,
       "width": 424
      }
     },
     "output_type": "display_data"
    }
   ],
   "source": [
    "# Prediction\n",
    "test_iter = iter(test_loader)\n",
    "images, labels = test_iter.next()\n",
    "img_to_predict = 19 #must be less than batch/2\n",
    "\n",
    "img = images[img_to_predict].view(1, -1)\n",
    "# quering the network\n",
    "with torch.no_grad():\n",
    "    logits = model.forward(img)\n",
    "# output of the network    \n",
    "ps = F.softmax(logits, dim=1)\n",
    "\n",
    "# seeing a predicted output\n",
    "view_prediction(img, ps)"
   ]
  },
  {
   "cell_type": "markdown",
   "metadata": {},
   "source": [
    "### Save and load model"
   ]
  },
  {
   "cell_type": "markdown",
   "metadata": {},
   "source": [
    "Сургасан моделоо дахиж ашиглахын тулд бас дахин дахин тест хийж системийнхээ чадварыг сайжруулахын тулд сургасан моделоо хадгалж аваад тэрийгээ дахиж дараа нь ашиглаад байж болно."
   ]
  },
  {
   "cell_type": "code",
   "execution_count": 27,
   "metadata": {},
   "outputs": [
    {
     "name": "stdout",
     "output_type": "stream",
     "text": [
      "Model info: \n",
      " Sequential(\n",
      "  (0): Linear(in_features=784, out_features=128, bias=True)\n",
      "  (1): ReLU()\n",
      "  (2): Linear(in_features=128, out_features=64, bias=True)\n",
      "  (3): ReLU()\n",
      "  (4): Linear(in_features=64, out_features=10, bias=True)\n",
      "  (5): LogSoftmax()\n",
      ") \n",
      "\n",
      "The state dict keys: \n",
      "\n",
      " odict_keys(['0.weight', '0.bias', '2.weight', '2.bias', '4.weight', '4.bias'])\n"
     ]
    }
   ],
   "source": [
    "save_model = False\n",
    "load_model = False\n",
    "\n",
    "print(\"Model info: \\n\", model, '\\n')\n",
    "print(\"The state dict keys: \\n\\n\", model.state_dict().keys())"
   ]
  },
  {
   "cell_type": "code",
   "execution_count": 28,
   "metadata": {},
   "outputs": [],
   "source": [
    "if save_model:\n",
    "    torch.save(model.state_dict(), 'model.pth')"
   ]
  },
  {
   "cell_type": "markdown",
   "metadata": {},
   "source": [
    "Loading the model"
   ]
  },
  {
   "cell_type": "code",
   "execution_count": 29,
   "metadata": {},
   "outputs": [],
   "source": [
    "if load_model:\n",
    "    state_dict = torch.load('model.pth')\n",
    "    # print(state_dict.keys())\n",
    "    model.load_state_dict(state_dict)"
   ]
  },
  {
   "cell_type": "code",
   "execution_count": 30,
   "metadata": {},
   "outputs": [],
   "source": [
    "# Prediction\n",
    "if load_model:\n",
    "    test_iter = iter(test_loader)\n",
    "    images, labels = test_iter.next()\n",
    "    img_to_predict = 19 #must be less than batch/2\n",
    "\n",
    "    predict(model, images, img_to_predict)"
   ]
  }
 ],
 "metadata": {
  "kernelspec": {
   "display_name": "Python 3",
   "language": "python",
   "name": "python3"
  },
  "language_info": {
   "codemirror_mode": {
    "name": "ipython",
    "version": 3
   },
   "file_extension": ".py",
   "mimetype": "text/x-python",
   "name": "python",
   "nbconvert_exporter": "python",
   "pygments_lexer": "ipython3",
   "version": "3.6.8"
  }
 },
 "nbformat": 4,
 "nbformat_minor": 2
}
